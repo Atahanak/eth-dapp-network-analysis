{
 "cells": [
  {
   "cell_type": "code",
   "execution_count": 2,
   "metadata": {},
   "outputs": [],
   "source": [
    "import os\n",
    "import glob\n",
    "import time\n",
    "\n",
    "import pandas as pd"
   ]
  },
  {
   "cell_type": "code",
   "execution_count": null,
   "metadata": {},
   "outputs": [],
   "source": [
    "data_path = \"/DATA/7A/xblock/\"\n",
    "df_path = \"/DATA/7A/assets/dataframes/\"\n",
    "\n",
    "#\n",
    "erc20_transactions_path = \"ERC20Transactions/uncompressed\"\n",
    "erc721_transactions_path = \"ERC721Transactions/uncompressed\"\n",
    "internal_transactions_path = \"InternalTransactions/uncompressed\"\n",
    "normal_transactions_path = \"NormalTransactions/uncompressed\"\n",
    "\n",
    "#token information\n",
    "token_info_path = \"TokenInfo/uncompressed/\"\n",
    "erc20_filename = \"ERC20TokenInfo.csv\"\n",
    "erc721_filename = \"ERC721TokenInfo.csv\""
   ]
  },
  {
   "cell_type": "markdown",
   "metadata": {},
   "source": [
    "## Read raw data from disk"
   ]
  },
  {
   "cell_type": "code",
   "execution_count": null,
   "metadata": {},
   "outputs": [
    {
     "name": "stdout",
     "output_type": "stream",
     "text": [
      "Reading file /DATA/7A/xblock/InternalTransactions/uncompressed/4000000to4999999_InternalTransaction.csv ...took 107.62567806243896 seconds.\n",
      "Reading file /DATA/7A/xblock/InternalTransactions/uncompressed/6000000to6999999_InternalTransaction.csv ...took 275.62033128738403 seconds.\n",
      "Reading file /DATA/7A/xblock/InternalTransactions/uncompressed/5000000to5999999_InternalTransaction.csv ...took 187.3502335548401 seconds.\n",
      "Reading file /DATA/7A/xblock/InternalTransactions/uncompressed/2000000to2999999_InternalTransaction.csv ..."
     ]
    },
    {
     "name": "stderr",
     "output_type": "stream",
     "text": [
      "/home/aakyildiz/anaconda3/envs/erc/lib/python3.9/site-packages/IPython/core/interactiveshell.py:3165: DtypeWarning: Columns (8) have mixed types.Specify dtype option on import or set low_memory=False.\n",
      "  has_raised = await self.run_ast_nodes(code_ast.body, cell_name,\n"
     ]
    },
    {
     "name": "stdout",
     "output_type": "stream",
     "text": [
      "took 564.3836097717285 seconds.\n",
      "Reading file /DATA/7A/xblock/InternalTransactions/uncompressed/11000000to11999999_InternalTransaction.csv ...took 1316.7560980319977 seconds.\n",
      "Reading file /DATA/7A/xblock/InternalTransactions/uncompressed/7000000to7999999_InternalTransaction.csv ...took 320.8647241592407 seconds.\n",
      "Reading file /DATA/7A/xblock/InternalTransactions/uncompressed/9000000to9999999_InternalTransaction.csv ...took 467.3810021877289 seconds.\n",
      "Reading file /DATA/7A/xblock/InternalTransactions/uncompressed/0to999999_InternalTransaction.csv ...took 2.137146472930908 seconds.\n",
      "Reading file /DATA/7A/xblock/InternalTransactions/uncompressed/10000000to10999999_InternalTransaction.csv ..."
     ]
    }
   ],
   "source": [
    "#read all erc721 transactions\n",
    "all_files = glob.glob(data_path + internal_transactions_path + \"/*.csv\")\n",
    "\n",
    "li = []\n",
    "bs = time.time()\n",
    "for filename in all_files:\n",
    "    start = time.time()\n",
    "    print(\"Reading file\", filename, \"...\", end=\"\", flush=True)\n",
    "    dfd = pd.read_csv(filename, index_col=None, header=0)\n",
    "    li.append(dfd)\n",
    "    end = time.time()\n",
    "    print(\"took\", end - start, \"seconds.\")\n",
    "be = time.time()\n",
    "print(\"Total:\", be - bs, \"seconds.\")\n",
    "\n",
    "df = pd.concat(li, axis=0, ignore_index=True)\n",
    "print(df.shape[0])\n",
    "df.head()"
   ]
  },
  {
   "cell_type": "markdown",
   "metadata": {},
   "source": [
    "### pandas df problems"
   ]
  },
  {
   "cell_type": "code",
   "execution_count": 6,
   "metadata": {},
   "outputs": [
    {
     "data": {
      "text/plain": [
       "blockNumber         int64\n",
       "timestamp           int64\n",
       "transactionHash    object\n",
       "tokenAddress       object\n",
       "from               object\n",
       "to                 object\n",
       "fromIsContract      int64\n",
       "toIsContract        int64\n",
       "dtype: object"
      ]
     },
     "execution_count": 6,
     "metadata": {},
     "output_type": "execute_result"
    }
   ],
   "source": [
    "#df.drop('value',axis='columns', inplace=True) #for erc20Transactions\n",
    "#df.drop('tokenId',axis='columns', inplace=True) #for erc721Transactions\n",
    "df.dtypes"
   ]
  },
  {
   "cell_type": "markdown",
   "metadata": {},
   "source": [
    "## Store DataFrame"
   ]
  },
  {
   "cell_type": "code",
   "execution_count": 7,
   "metadata": {},
   "outputs": [
    {
     "data": {
      "text/plain": [
       "('Took', 11.08938717842102, ' seconds.')"
      ]
     },
     "execution_count": 7,
     "metadata": {},
     "output_type": "execute_result"
    }
   ],
   "source": [
    "file_name = \"internalTransactions.df\"\n",
    "\n",
    "s = time.time()\n",
    "#df.drop('tokenId',axis='columns', inplace=True) #for erc721Transactions\n",
    "df.to_feather(df_path + file_name)\n",
    "e = time.time()\n",
    "\"Took\", e - s, \" seconds.\""
   ]
  },
  {
   "cell_type": "markdown",
   "metadata": {},
   "source": [
    "## Reaf DataFrame from Disk"
   ]
  },
  {
   "cell_type": "code",
   "execution_count": 10,
   "metadata": {},
   "outputs": [
    {
     "name": "stdout",
     "output_type": "stream",
     "text": [
      "Took 9.217662334442139  seconds.\n"
     ]
    },
    {
     "data": {
      "text/html": [
       "<div>\n",
       "<style scoped>\n",
       "    .dataframe tbody tr th:only-of-type {\n",
       "        vertical-align: middle;\n",
       "    }\n",
       "\n",
       "    .dataframe tbody tr th {\n",
       "        vertical-align: top;\n",
       "    }\n",
       "\n",
       "    .dataframe thead th {\n",
       "        text-align: right;\n",
       "    }\n",
       "</style>\n",
       "<table border=\"1\" class=\"dataframe\">\n",
       "  <thead>\n",
       "    <tr style=\"text-align: right;\">\n",
       "      <th></th>\n",
       "      <th>blockNumber</th>\n",
       "      <th>timestamp</th>\n",
       "      <th>transactionHash</th>\n",
       "      <th>tokenAddress</th>\n",
       "      <th>from</th>\n",
       "      <th>to</th>\n",
       "      <th>fromIsContract</th>\n",
       "      <th>toIsContract</th>\n",
       "    </tr>\n",
       "  </thead>\n",
       "  <tbody>\n",
       "    <tr>\n",
       "      <th>0</th>\n",
       "      <td>3006260</td>\n",
       "      <td>1484564580</td>\n",
       "      <td>0x9d5fe398fe902975f8508e197ec6c0d0082f8a142a7f...</td>\n",
       "      <td>0xe9436e4cb00f38215a941c7141ee98348fdcce6d</td>\n",
       "      <td>0x002add5778a3d327278a357a4983a57c1894af12</td>\n",
       "      <td>0xa84ab927943d87e2f14afac62af7283e26cf010e</td>\n",
       "      <td>0</td>\n",
       "      <td>0</td>\n",
       "    </tr>\n",
       "    <tr>\n",
       "      <th>1</th>\n",
       "      <td>3053922</td>\n",
       "      <td>1485244952</td>\n",
       "      <td>0xd97c4ddc0f5c0af8c18a093b184de0a8a14e35c87c3f...</td>\n",
       "      <td>0x55b9a11c2e8351b4ffc7b11561148bfac9977855</td>\n",
       "      <td>0x121b1badeda482fa25f01c63ad17bbc2701f9165</td>\n",
       "      <td>0x5d2c24efac49825f682b5d334428f1a5c96acc09</td>\n",
       "      <td>0</td>\n",
       "      <td>1</td>\n",
       "    </tr>\n",
       "    <tr>\n",
       "      <th>2</th>\n",
       "      <td>3053922</td>\n",
       "      <td>1485244952</td>\n",
       "      <td>0xd97c4ddc0f5c0af8c18a093b184de0a8a14e35c87c3f...</td>\n",
       "      <td>0x55b9a11c2e8351b4ffc7b11561148bfac9977855</td>\n",
       "      <td>0x121b1badeda482fa25f01c63ad17bbc2701f9165</td>\n",
       "      <td>0x3effc3bb636a66d39ae016399d787d99e1c286a4</td>\n",
       "      <td>0</td>\n",
       "      <td>0</td>\n",
       "    </tr>\n",
       "    <tr>\n",
       "      <th>3</th>\n",
       "      <td>3053922</td>\n",
       "      <td>1485244952</td>\n",
       "      <td>0xd97c4ddc0f5c0af8c18a093b184de0a8a14e35c87c3f...</td>\n",
       "      <td>0x55b9a11c2e8351b4ffc7b11561148bfac9977855</td>\n",
       "      <td>0x121b1badeda482fa25f01c63ad17bbc2701f9165</td>\n",
       "      <td>0x5d2c24efac49825f682b5d334428f1a5c96acc09</td>\n",
       "      <td>0</td>\n",
       "      <td>1</td>\n",
       "    </tr>\n",
       "    <tr>\n",
       "      <th>4</th>\n",
       "      <td>3132454</td>\n",
       "      <td>1486369652</td>\n",
       "      <td>0x2a7ed459141cc841ab5b376ea64dbc7041b333384d7a...</td>\n",
       "      <td>0x55b9a11c2e8351b4ffc7b11561148bfac9977855</td>\n",
       "      <td>0x01d80e458ae6cd5d2bce90b06ff2d3fa993b65f5</td>\n",
       "      <td>0x5d2c24efac49825f682b5d334428f1a5c96acc09</td>\n",
       "      <td>0</td>\n",
       "      <td>1</td>\n",
       "    </tr>\n",
       "  </tbody>\n",
       "</table>\n",
       "</div>"
      ],
      "text/plain": [
       "   blockNumber   timestamp                                    transactionHash  \\\n",
       "0      3006260  1484564580  0x9d5fe398fe902975f8508e197ec6c0d0082f8a142a7f...   \n",
       "1      3053922  1485244952  0xd97c4ddc0f5c0af8c18a093b184de0a8a14e35c87c3f...   \n",
       "2      3053922  1485244952  0xd97c4ddc0f5c0af8c18a093b184de0a8a14e35c87c3f...   \n",
       "3      3053922  1485244952  0xd97c4ddc0f5c0af8c18a093b184de0a8a14e35c87c3f...   \n",
       "4      3132454  1486369652  0x2a7ed459141cc841ab5b376ea64dbc7041b333384d7a...   \n",
       "\n",
       "                                 tokenAddress  \\\n",
       "0  0xe9436e4cb00f38215a941c7141ee98348fdcce6d   \n",
       "1  0x55b9a11c2e8351b4ffc7b11561148bfac9977855   \n",
       "2  0x55b9a11c2e8351b4ffc7b11561148bfac9977855   \n",
       "3  0x55b9a11c2e8351b4ffc7b11561148bfac9977855   \n",
       "4  0x55b9a11c2e8351b4ffc7b11561148bfac9977855   \n",
       "\n",
       "                                         from  \\\n",
       "0  0x002add5778a3d327278a357a4983a57c1894af12   \n",
       "1  0x121b1badeda482fa25f01c63ad17bbc2701f9165   \n",
       "2  0x121b1badeda482fa25f01c63ad17bbc2701f9165   \n",
       "3  0x121b1badeda482fa25f01c63ad17bbc2701f9165   \n",
       "4  0x01d80e458ae6cd5d2bce90b06ff2d3fa993b65f5   \n",
       "\n",
       "                                           to  fromIsContract  toIsContract  \n",
       "0  0xa84ab927943d87e2f14afac62af7283e26cf010e               0             0  \n",
       "1  0x5d2c24efac49825f682b5d334428f1a5c96acc09               0             1  \n",
       "2  0x3effc3bb636a66d39ae016399d787d99e1c286a4               0             0  \n",
       "3  0x5d2c24efac49825f682b5d334428f1a5c96acc09               0             1  \n",
       "4  0x5d2c24efac49825f682b5d334428f1a5c96acc09               0             1  "
      ]
     },
     "execution_count": 10,
     "metadata": {},
     "output_type": "execute_result"
    }
   ],
   "source": [
    "file_name = \"internalTransactions.df\"\n",
    "\n",
    "s = time.time()\n",
    "df = pd.read_feather(df_path + file_name)\n",
    "e = time.time()\n",
    "print(\"Took\", e - s, \" seconds.\")\n",
    "df.head(5)"
   ]
  },
  {
   "cell_type": "code",
   "execution_count": null,
   "metadata": {},
   "outputs": [],
   "source": []
  }
 ],
 "metadata": {
  "kernelspec": {
   "display_name": "erc",
   "language": "python",
   "name": "erc"
  },
  "language_info": {
   "codemirror_mode": {
    "name": "ipython",
    "version": 3
   },
   "file_extension": ".py",
   "mimetype": "text/x-python",
   "name": "python",
   "nbconvert_exporter": "python",
   "pygments_lexer": "ipython3",
   "version": "3.9.4"
  }
 },
 "nbformat": 4,
 "nbformat_minor": 4
}
