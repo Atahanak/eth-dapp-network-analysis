{
 "cells": [
  {
   "cell_type": "code",
   "execution_count": 1,
   "metadata": {},
   "outputs": [],
   "source": [
    "import os\n",
    "import glob\n",
    "import time\n",
    "import json\n",
    "\n",
    "import networkx as nx\n",
    "import math"
   ]
  },
  {
   "cell_type": "markdown",
   "metadata": {},
   "source": [
    "# Data Paths"
   ]
  },
  {
   "cell_type": "code",
   "execution_count": 2,
   "metadata": {},
   "outputs": [],
   "source": [
    "data_path = \"/DATA/7A/assets/erc721tokens/CryptoKitties/\"\n",
    "\n",
    "graph_name = \"CryptoKitties\""
   ]
  },
  {
   "cell_type": "code",
   "execution_count": 3,
   "metadata": {},
   "outputs": [
    {
     "data": {
      "text/plain": [
       "('CryptoKitties', 114527, 5434740)"
      ]
     },
     "execution_count": 3,
     "metadata": {},
     "output_type": "execute_result"
    }
   ],
   "source": [
    "with open(data_path + graph_name + '.json') as f:\n",
    "    graph_info = json.load(f)\n",
    "graph_info['name'], graph_info['#nodes'], graph_info['#edges']"
   ]
  },
  {
   "cell_type": "markdown",
   "metadata": {},
   "source": [
    "# Create NetworkX Graph"
   ]
  },
  {
   "cell_type": "code",
   "execution_count": 5,
   "metadata": {},
   "outputs": [
    {
     "data": {
      "text/plain": [
       "'Name: \\nType: MultiDiGraph\\nNumber of nodes: 114527\\nNumber of edges: 5434740\\nAverage in degree:  47.4538\\nAverage out degree:  47.4538'"
      ]
     },
     "execution_count": 5,
     "metadata": {},
     "output_type": "execute_result"
    }
   ],
   "source": [
    "#create multidigraph\n",
    "edges = graph_info[\"edges\"]\n",
    "\n",
    "graph = nx.MultiDiGraph()\n",
    "for e in edges:\n",
    "    u = e[0]\n",
    "    v = e[1]\n",
    "    t = e[2]\n",
    "    graph.add_edge(u, v, timestamp=t)\n",
    "\n",
    "nx.info(graph)"
   ]
  },
  {
   "cell_type": "markdown",
   "metadata": {},
   "source": [
    "## create network snapshots"
   ]
  },
  {
   "cell_type": "code",
   "execution_count": 6,
   "metadata": {},
   "outputs": [
    {
     "name": "stdout",
     "output_type": "stream",
     "text": [
      "1511415679 1615234784\n",
      "Number of snapshots 14\n",
      "Name: \n",
      "Type: DiGraph\n",
      "Number of nodes: 65965\n",
      "Number of edges: 211848\n",
      "Average in degree:   3.2115\n",
      "Average out degree:   3.2115\n",
      "Name: \n",
      "Type: DiGraph\n",
      "Number of nodes: 15071\n",
      "Number of edges: 35186\n",
      "Average in degree:   2.3347\n",
      "Average out degree:   2.3347\n",
      "Name: \n",
      "Type: DiGraph\n",
      "Number of nodes: 10200\n",
      "Number of edges: 22383\n",
      "Average in degree:   2.1944\n",
      "Average out degree:   2.1944\n",
      "Name: \n",
      "Type: DiGraph\n",
      "Number of nodes: 8831\n",
      "Number of edges: 20554\n",
      "Average in degree:   2.3275\n",
      "Average out degree:   2.3275\n",
      "Name: \n",
      "Type: DiGraph\n",
      "Number of nodes: 7287\n",
      "Number of edges: 16338\n",
      "Average in degree:   2.2421\n",
      "Average out degree:   2.2421\n",
      "Name: \n",
      "Type: DiGraph\n",
      "Number of nodes: 7875\n",
      "Number of edges: 17411\n",
      "Average in degree:   2.2109\n",
      "Average out degree:   2.2109\n",
      "Name: \n",
      "Type: DiGraph\n",
      "Number of nodes: 7115\n",
      "Number of edges: 14812\n",
      "Average in degree:   2.0818\n",
      "Average out degree:   2.0818\n",
      "Name: \n",
      "Type: DiGraph\n",
      "Number of nodes: 5418\n",
      "Number of edges: 11887\n",
      "Average in degree:   2.1940\n",
      "Average out degree:   2.1940\n",
      "Name: \n",
      "Type: DiGraph\n",
      "Number of nodes: 5464\n",
      "Number of edges: 12639\n",
      "Average in degree:   2.3131\n",
      "Average out degree:   2.3131\n",
      "Name: \n",
      "Type: DiGraph\n",
      "Number of nodes: 6676\n",
      "Number of edges: 13971\n",
      "Average in degree:   2.0927\n",
      "Average out degree:   2.0927\n",
      "Name: \n",
      "Type: DiGraph\n",
      "Number of nodes: 3856\n",
      "Number of edges: 8468\n",
      "Average in degree:   2.1961\n",
      "Average out degree:   2.1961\n",
      "Name: \n",
      "Type: DiGraph\n",
      "Number of nodes: 4215\n",
      "Number of edges: 7781\n",
      "Average in degree:   1.8460\n",
      "Average out degree:   1.8460\n",
      "Name: \n",
      "Type: DiGraph\n",
      "Number of nodes: 4698\n",
      "Number of edges: 7499\n",
      "Average in degree:   1.5962\n",
      "Average out degree:   1.5962\n",
      "Name: \n",
      "Type: DiGraph\n",
      "Number of nodes: 4289\n",
      "Number of edges: 5241\n",
      "Average in degree:   1.2220\n",
      "Average out degree:   1.2220\n"
     ]
    }
   ],
   "source": [
    "time_period = 60*60*24*90 # 90 day periods\n",
    "\n",
    "mindelta = edges[0][2]\n",
    "maxdelta = edges[0][2]\n",
    "for e in edges:\n",
    "    if e[2] > maxdelta:\n",
    "        maxdelta = e[2]\n",
    "    if e[2] < mindelta:\n",
    "        mindelta = e[2]\n",
    "print(mindelta, maxdelta)\n",
    "duration = maxdelta - mindelta\n",
    "num_snapshots = math.ceil(duration / time_period)\n",
    "print(\"Number of snapshots\", num_snapshots)\n",
    "\n",
    "graphs = []\n",
    "for x in range(0,num_snapshots):\n",
    "    tg = nx.DiGraph()\n",
    "    #tg[\"name\"] = str(x)\n",
    "    graphs.append(nx.DiGraph())\n",
    "    \n",
    "\n",
    "for u,v,t in graph.edges(data=True):\n",
    "    idx = math.floor((t[\"timestamp\"] - mindelta) / time_period)\n",
    "    graphs[idx].add_edge(u, v)\n",
    "    \n",
    "for g in graphs:\n",
    "    print(nx.info(g))"
   ]
  },
  {
   "cell_type": "markdown",
   "metadata": {},
   "source": [
    "# Analysis"
   ]
  },
  {
   "cell_type": "code",
   "execution_count": 16,
   "metadata": {},
   "outputs": [],
   "source": [
    "import collections\n",
    "import matplotlib.pyplot as plt\n",
    "import numpy as np"
   ]
  },
  {
   "cell_type": "markdown",
   "metadata": {},
   "source": [
    "## hub vertices"
   ]
  },
  {
   "cell_type": "markdown",
   "metadata": {},
   "source": [
    "- which tokens share hubs? (if they share any)\n",
    "\n",
    "- can we find liquidity providers by checking neighbors of hub vertices?\n"
   ]
  },
  {
   "cell_type": "code",
   "execution_count": 17,
   "metadata": {},
   "outputs": [
    {
     "name": "stdout",
     "output_type": "stream",
     "text": [
      "All time:\n",
      "[('0xb1690c08e213a35ed9bab7b318de14420fb57d8c', 2131591), ('0x0000000000000000000000000000000000000000', 1996428), ('0xc7af99fe5513eb6710e6d5f44f9989da40f27f26', 597023), ('0x68b42e44079d1d0a4a037e8c6ecd62c48967e69f', 292725), ('0x09fe5f0236f0ea5d930197dce254d77b04128075', 170161)]\n",
      "T = 0\n",
      "[('0xb1690c08e213a35ed9bab7b318de14420fb57d8c', 101924), ('0xc7af99fe5513eb6710e6d5f44f9989da40f27f26', 51412), ('0x0000000000000000000000000000000000000000', 48487), ('0xbd77aee5f4d066257803099c266421eaa472fb5e', 788), ('0xba52c75764d6f594735dc735be7f1830cdf58ddf', 187)]\n",
      "T = 1\n",
      "[('0xb1690c08e213a35ed9bab7b318de14420fb57d8c', 16042), ('0xc7af99fe5513eb6710e6d5f44f9989da40f27f26', 7769), ('0x0000000000000000000000000000000000000000', 6002), ('0xc273487f0e8b0e55f612f69f5e29074e986180dd', 421), ('0xb2c3531f77ee0a7ec7094a0bc87ef4a269e0bcfc', 159)]\n",
      "T = 2\n",
      "[('0xb1690c08e213a35ed9bab7b318de14420fb57d8c', 10046), ('0xc7af99fe5513eb6710e6d5f44f9989da40f27f26', 4435), ('0x0000000000000000000000000000000000000000', 3892), ('0xdd4d25a8e453546e2bfbe2ba44df939e19e0c3af', 611), ('0xa6ccdb425199d9531334f58e94cdca5140d00119', 297)]\n",
      "T = 3\n",
      "[('0xb1690c08e213a35ed9bab7b318de14420fb57d8c', 8522), ('0xc7af99fe5513eb6710e6d5f44f9989da40f27f26', 4341), ('0x0000000000000000000000000000000000000000', 3787), ('0xdd4d25a8e453546e2bfbe2ba44df939e19e0c3af', 227), ('0xcb52a44fb5fa4bf90a8c0d0e3d9457defe0c2b15', 114)]\n",
      "T = 4\n",
      "[('0xb1690c08e213a35ed9bab7b318de14420fb57d8c', 6884), ('0x0000000000000000000000000000000000000000', 3081), ('0xc7af99fe5513eb6710e6d5f44f9989da40f27f26', 3035), ('0xd01c92937400dd1ece24992b1dc44aeaa47ae72a', 94), ('0xc35a5fec6be6957899e15559be252db882220b37', 65)]\n",
      "T = 5\n",
      "[('0xb1690c08e213a35ed9bab7b318de14420fb57d8c', 6628), ('0x0000000000000000000000000000000000000000', 3514), ('0xc7af99fe5513eb6710e6d5f44f9989da40f27f26', 2863), ('0x58de68168a50886724260ccea3580cd874852d02', 156), ('0xc35a5fec6be6957899e15559be252db882220b37', 117)]\n",
      "T = 6\n",
      "[('0xb1690c08e213a35ed9bab7b318de14420fb57d8c', 5875), ('0x0000000000000000000000000000000000000000', 2440), ('0xc7af99fe5513eb6710e6d5f44f9989da40f27f26', 2302), ('0xad2b35d80a176ad842d599c3c4042f36a1e6f3f2', 594), ('0x09fe5f0236f0ea5d930197dce254d77b04128075', 347)]\n",
      "T = 7\n",
      "[('0xb1690c08e213a35ed9bab7b318de14420fb57d8c', 4490), ('0xc7af99fe5513eb6710e6d5f44f9989da40f27f26', 2082), ('0x0000000000000000000000000000000000000000', 2009), ('0x09fe5f0236f0ea5d930197dce254d77b04128075', 660), ('0xd525cd6f1a42645e8a36d5f82f39d14d64c169b0', 128)]\n",
      "T = 8\n",
      "[('0xb1690c08e213a35ed9bab7b318de14420fb57d8c', 4575), ('0xc7af99fe5513eb6710e6d5f44f9989da40f27f26', 2379), ('0x0000000000000000000000000000000000000000', 2043), ('0x09fe5f0236f0ea5d930197dce254d77b04128075', 226), ('0x1697491f661042d4b31a6f15fcf454eccec8dca7', 161)]\n",
      "T = 9\n",
      "[('0xb1690c08e213a35ed9bab7b318de14420fb57d8c', 4482), ('0xc7af99fe5513eb6710e6d5f44f9989da40f27f26', 2101), ('0x0000000000000000000000000000000000000000', 2067), ('0xf26d144bd92260fb1c770b5b19b8caf2c5529e62', 1858), ('0x09fe5f0236f0ea5d930197dce254d77b04128075', 405)]\n",
      "T = 10\n",
      "[('0xb1690c08e213a35ed9bab7b318de14420fb57d8c', 3384), ('0x0000000000000000000000000000000000000000', 1585), ('0xc7af99fe5513eb6710e6d5f44f9989da40f27f26', 1298), ('0x09fe5f0236f0ea5d930197dce254d77b04128075', 329), ('0x09191d18729da57a83a9afc8ace0c8d7d104e118', 102)]\n",
      "T = 11\n",
      "[('0xb1690c08e213a35ed9bab7b318de14420fb57d8c', 3319), ('0x0000000000000000000000000000000000000000', 1392), ('0xc7af99fe5513eb6710e6d5f44f9989da40f27f26', 750), ('0x09fe5f0236f0ea5d930197dce254d77b04128075', 341), ('0x1697491f661042d4b31a6f15fcf454eccec8dca7', 335)]\n",
      "T = 12\n",
      "[('0xb1690c08e213a35ed9bab7b318de14420fb57d8c', 3787), ('0x0000000000000000000000000000000000000000', 1393), ('0xc7af99fe5513eb6710e6d5f44f9989da40f27f26', 690), ('0x09fe5f0236f0ea5d930197dce254d77b04128075', 213), ('0x09c298039e9bdd9f7b3f250af1f39bbaeb2b5299', 81)]\n",
      "T = 13\n",
      "[('0xb1690c08e213a35ed9bab7b318de14420fb57d8c', 3638), ('0x0000000000000000000000000000000000000000', 398), ('0xc7af99fe5513eb6710e6d5f44f9989da40f27f26', 208), ('0x0327fc2c37aca21f934a2be6d08d53a119f621e2', 60), ('0x09fe5f0236f0ea5d930197dce254d77b04128075', 54)]\n"
     ]
    }
   ],
   "source": [
    "degrees = graph.degree\n",
    "print(\"All time:\")\n",
    "print(sorted(degrees, key=lambda t: t[1], reverse=True)[:5])\n",
    "c = 0\n",
    "for g in graphs:\n",
    "    print(\"T =\", c)\n",
    "    c += 1\n",
    "    print(sorted(g.degree, key=lambda t: t[1], reverse=True)[:5])"
   ]
  },
  {
   "cell_type": "markdown",
   "metadata": {},
   "source": [
    "## degree distribution"
   ]
  },
  {
   "cell_type": "markdown",
   "metadata": {},
   "source": [
    "- is there a difference between erc20 and erc721 degree distributions?\n",
    "- user profiling => degree distribution of users across graphs \n",
    "- user activity profiling => temporal degree distribution \n",
    "    - for diffent time granularities"
   ]
  },
  {
   "cell_type": "code",
   "execution_count": 18,
   "metadata": {},
   "outputs": [
    {
     "name": "stdout",
     "output_type": "stream",
     "text": [
      "Creating histogram...\n",
      "Creating histogram...\n",
      "Creating histogram...\n",
      "Creating histogram...\n",
      "Creating histogram...\n",
      "Creating histogram...\n",
      "Creating histogram...\n",
      "Creating histogram...\n",
      "Creating histogram...\n",
      "Creating histogram...\n",
      "Creating histogram...\n",
      "Creating histogram...\n",
      "Creating histogram...\n",
      "Creating histogram...\n",
      "Creating histogram...\n"
     ]
    },
    {
     "data": {
      "text/plain": [
       "<matplotlib.legend.Legend at 0x7f808a31a880>"
      ]
     },
     "execution_count": 18,
     "metadata": {},
     "output_type": "execute_result"
    },
    {
     "data": {
      "image/png": "[encoded data removed]",
      "text/plain": [
       "<Figure size 432x288 with 1 Axes>"
      ]
     },
     "metadata": {
      "needs_background": "light"
     },
     "output_type": "display_data"
    }
   ],
   "source": [
    "def plot_degree_histogram(g, normalized=True):\n",
    "    print(\"Creating histogram...\")\n",
    "    aux_y = nx.degree_histogram(g)\n",
    "    \n",
    "    aux_x = np.arange(0,len(aux_y)).tolist()\n",
    "    \n",
    "    n_nodes = g.number_of_nodes()\n",
    "    \n",
    "    if normalized:\n",
    "        for i in range(len(aux_y)):\n",
    "            aux_y[i] = aux_y[i]/n_nodes\n",
    "    \n",
    "    return aux_x, aux_y\n",
    "\n",
    "x, y = plot_degree_histogram(graph)\n",
    "plt.title('\\nDegree Distribution All Time (log-log scale)')\n",
    "plt.xlabel('Degree\\n(log scale)')\n",
    "plt.ylabel('Number of Nodes\\n(log scale)')\n",
    "plt.xscale(\"log\")\n",
    "plt.yscale(\"log\")\n",
    "plt.plot(x, y, 'o', label = \"all time\")\n",
    "\n",
    "c = 0\n",
    "for g in graphs:\n",
    "    x, y = plot_degree_histogram(g)\n",
    "    plt.plot(x, y, 'o', label=c)\n",
    "    c += 1\n",
    "plt.legend()"
   ]
  },
  {
   "cell_type": "markdown",
   "metadata": {},
   "source": [
    "- degree distribution could show us whales in marketplaces?\n",
    "- nft galleries? :)\n",
    "    \n",
    "**Degree distribution at a **\n",
    "\n",
    "- degree distribution change "
   ]
  },
  {
   "cell_type": "code",
   "execution_count": null,
   "metadata": {},
   "outputs": [],
   "source": []
  }
 ],
 "metadata": {
  "kernelspec": {
   "display_name": "erc",
   "language": "python",
   "name": "erc"
  },
  "language_info": {
   "codemirror_mode": {
    "name": "ipython",
    "version": 3
   },
   "file_extension": ".py",
   "mimetype": "text/x-python",
   "name": "python",
   "nbconvert_exporter": "python",
   "pygments_lexer": "ipython3",
   "version": "3.9.4"
  }
 },
 "nbformat": 4,
 "nbformat_minor": 2
}
