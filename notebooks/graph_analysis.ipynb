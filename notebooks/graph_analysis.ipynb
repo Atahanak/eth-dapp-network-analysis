{
 "cells": [
  {
   "cell_type": "code",
   "execution_count": 1,
   "metadata": {},
   "outputs": [],
   "source": [
    "import os\n",
    "import glob\n",
    "import time\n",
    "import json\n",
    "import datetime\n",
    "from datetime import datetime\n",
    "\n",
    "import networkx as nx\n",
    "import math"
   ]
  },
  {
   "cell_type": "markdown",
   "metadata": {},
   "source": [
    "## Setup Plot Settings"
   ]
  },
  {
   "cell_type": "code",
   "execution_count": 2,
   "metadata": {},
   "outputs": [],
   "source": [
    "import pylab\n",
    "pylab.rcParams['xtick.major.pad']='8'\n",
    "pylab.rcParams['ytick.major.pad']='8'\n",
    "#pylab.rcParams['font.sans-serif']='Arial'\n",
    "\n",
    "from matplotlib import rc\n",
    "rc('font', family='sans-serif')\n",
    "rc('font', size=10.0)\n",
    "rc('text', usetex=False)\n",
    "\n",
    "\n",
    "from matplotlib.font_manager import FontProperties\n",
    "\n",
    "panel_label_font = FontProperties().copy()\n",
    "panel_label_font.set_weight(\"bold\")\n",
    "panel_label_font.set_size(12.0)\n",
    "panel_label_font.set_family(\"sans-serif\")"
   ]
  },
  {
   "cell_type": "markdown",
   "metadata": {},
   "source": [
    "# Data Paths"
   ]
  },
  {
   "cell_type": "code",
   "execution_count": 99,
   "metadata": {},
   "outputs": [],
   "source": [
    "#data_path = \"/DATA/7A/assets/erc20networks/WrappedBTC/\"\n",
    "data_path = \"/DATA/7A/assets/erc721networks/GodsUnchainedCards/\"\n",
    "\n",
    "graph_name = \"GodsUnchainedCards\""
   ]
  },
  {
   "cell_type": "code",
   "execution_count": 100,
   "metadata": {},
   "outputs": [
    {
     "data": {
      "text/plain": [
       "('Sorare', 10331, 414618)"
      ]
     },
     "execution_count": 100,
     "metadata": {},
     "output_type": "execute_result"
    }
   ],
   "source": [
    "with open(data_path + graph_name + '.json') as f:\n",
    "    graph_info = json.load(f)\n",
    "graph_info['name'], graph_info['#nodes'], graph_info['#edges']"
   ]
  },
  {
   "cell_type": "markdown",
   "metadata": {},
   "source": [
    "# Create NetworkX Graph"
   ]
  },
  {
   "cell_type": "code",
   "execution_count": 101,
   "metadata": {},
   "outputs": [],
   "source": [
    "def convertTimestamp(Ts):\n",
    "    timestamp = datetime.fromtimestamp(Ts)\n",
    "    return timestamp"
   ]
  },
  {
   "cell_type": "code",
   "execution_count": 102,
   "metadata": {},
   "outputs": [
    {
     "name": "stdout",
     "output_type": "stream",
     "text": [
      "Name: \n",
      "Type: MultiDiGraph\n",
      "Number of nodes: 10331\n",
      "Number of edges: 414618\n",
      "Average in degree:  40.1334\n",
      "Average out degree:  40.1334\n"
     ]
    },
    {
     "data": {
      "text/plain": [
       "'Name: \\nType: MultiDiGraph\\nNumber of nodes: 10331\\nNumber of edges: 414618\\nAverage in degree:  40.1334\\nAverage out degree:  40.1334'"
      ]
     },
     "execution_count": 102,
     "metadata": {},
     "output_type": "execute_result"
    }
   ],
   "source": [
    "#create multidigraph\n",
    "edges = graph_info[\"edges\"]\n",
    "\n",
    "graph = nx.MultiDiGraph()\n",
    "for e in edges:\n",
    "    u = e[0]\n",
    "    v = e[1]\n",
    "    \n",
    "    t = convertTimestamp(e[2])\n",
    "    graph.add_edge(u, v, timestamp=t)\n",
    "    #print(t)\n",
    "    #if t >= datetime.strptime('2020-01-01 00:00:00', '%Y-%m-%d %H:%M:%S') and t <= datetime.strptime('2020-12-31 23:59:59', '%Y-%m-%d %H:%M:%S'):\n",
    "    #    graph.add_edge(u, v, timestamp=t)\n",
    "    #if t > datetime.strptime('2021-12-31 23:59:59', '%Y-%m-%d %H:%M:%S'):\n",
    "    #    break\n",
    "print(nx.info(graph))\n",
    "nx.info(graph)\n",
    "#print(\"Reciprocity of \"+graph_name+\" is:\", nx.overall_reciprocity(graph))\n",
    "#print(\"Assortativity of \"+graph_name+\" is:\", nx.degree_pearson_correlation_coefficient(graph))\n",
    "#print(\"Average Clustering Coeff of \"+ graph_name +\" is: \", nx.average_clustering(graph))"
   ]
  },
  {
   "cell_type": "markdown",
   "metadata": {},
   "source": [
    "### get gephi output"
   ]
  },
  {
   "cell_type": "code",
   "execution_count": 103,
   "metadata": {},
   "outputs": [],
   "source": [
    "# Export to Gexf file.\n",
    "#nx.write_gexf(graph, '{}'.format(data_path + graph_name + \".gexf\"))"
   ]
  },
  {
   "cell_type": "markdown",
   "metadata": {},
   "source": [
    "## create network snapshots"
   ]
  },
  {
   "cell_type": "code",
   "execution_count": 142,
   "metadata": {},
   "outputs": [
    {
     "name": "stdout",
     "output_type": "stream",
     "text": [
      "1533124251 1615234132\n",
      "Number of snapshots 11\n",
      "Name: \n",
      "Type: MultiDiGraph\n",
      "Number of nodes: 2023\n",
      "Number of edges: 4427\n",
      "Average in degree:   2.1883\n",
      "Average out degree:   2.1883\n",
      "Name: \n",
      "Type: MultiDiGraph\n",
      "Number of nodes: 442\n",
      "Number of edges: 2965\n",
      "Average in degree:   6.7081\n",
      "Average out degree:   6.7081\n",
      "Name: \n",
      "Type: MultiDiGraph\n",
      "Number of nodes: 531\n",
      "Number of edges: 4471\n",
      "Average in degree:   8.4200\n",
      "Average out degree:   8.4200\n",
      "Name: \n",
      "Type: MultiDiGraph\n",
      "Number of nodes: 514\n",
      "Number of edges: 3352\n",
      "Average in degree:   6.5214\n",
      "Average out degree:   6.5214\n",
      "Name: \n",
      "Type: MultiDiGraph\n",
      "Number of nodes: 489\n",
      "Number of edges: 1885\n",
      "Average in degree:   3.8548\n",
      "Average out degree:   3.8548\n",
      "Name: \n",
      "Type: MultiDiGraph\n",
      "Number of nodes: 281\n",
      "Number of edges: 1245\n",
      "Average in degree:   4.4306\n",
      "Average out degree:   4.4306\n",
      "Name: \n",
      "Type: MultiDiGraph\n",
      "Number of nodes: 290\n",
      "Number of edges: 1436\n",
      "Average in degree:   4.9517\n",
      "Average out degree:   4.9517\n",
      "Name: \n",
      "Type: MultiDiGraph\n",
      "Number of nodes: 715\n",
      "Number of edges: 4055\n",
      "Average in degree:   5.6713\n",
      "Average out degree:   5.6713\n",
      "Name: \n",
      "Type: MultiDiGraph\n",
      "Number of nodes: 228\n",
      "Number of edges: 688\n",
      "Average in degree:   3.0175\n",
      "Average out degree:   3.0175\n",
      "Name: \n",
      "Type: MultiDiGraph\n",
      "Number of nodes: 310\n",
      "Number of edges: 945\n",
      "Average in degree:   3.0484\n",
      "Average out degree:   3.0484\n",
      "Name: \n",
      "Type: MultiDiGraph\n",
      "Number of nodes: 330\n",
      "Number of edges: 721\n",
      "Average in degree:   2.1848\n",
      "Average out degree:   2.1848\n"
     ]
    }
   ],
   "source": [
    "time_period = 60*60*24*90 # 90 day periods\n",
    "\n",
    "mindelta = edges[0][2]\n",
    "maxdelta = edges[0][2]\n",
    "for e in edges:\n",
    "    if e[2] > maxdelta:\n",
    "        maxdelta = e[2]\n",
    "    if e[2] < mindelta:\n",
    "        mindelta = e[2]\n",
    "print(mindelta, maxdelta)\n",
    "duration = maxdelta - mindelta\n",
    "num_snapshots = math.ceil(duration / time_period)\n",
    "print(\"Number of snapshots\", num_snapshots)\n",
    "\n",
    "graphs = []\n",
    "for x in range(0,num_snapshots):\n",
    "    #tg = nx.MultiDiGraph()\n",
    "    #tg[\"name\"] = str(x)\n",
    "    graphs.append(nx.MultiDiGraph())\n",
    "    \n",
    "\n",
    "for u,v,t in graph.edges(data=True):\n",
    "    idx = math.floor((t[\"timestamp\"].timestamp() - mindelta) / time_period)\n",
    "    graphs[idx].add_edge(u, v)\n",
    "    \n",
    "for g in graphs:\n",
    "    print(nx.info(g))"
   ]
  },
  {
   "cell_type": "markdown",
   "metadata": {},
   "source": [
    "# Analysis"
   ]
  },
  {
   "cell_type": "code",
   "execution_count": 143,
   "metadata": {},
   "outputs": [],
   "source": [
    "import collections\n",
    "import matplotlib.pyplot as plt\n",
    "import numpy as np\n",
    "import powerlaw"
   ]
  },
  {
   "cell_type": "markdown",
   "metadata": {},
   "source": [
    "## hub vertices"
   ]
  },
  {
   "cell_type": "markdown",
   "metadata": {},
   "source": [
    "- which tokens share hubs? (if they share any)\n",
    "\n",
    "- can we find liquidity providers by checking neighbors of hub vertices?\n"
   ]
  },
  {
   "cell_type": "code",
   "execution_count": 144,
   "metadata": {},
   "outputs": [
    {
     "name": "stdout",
     "output_type": "stream",
     "text": [
      "All time:\n",
      "[('0x112ca67c8e9a6ac65e1a2753613d37b89ab7436b', 14300), ('0x0ce13e66bef17801c9f19fb763be2dd2f391d7c2', 2049), ('0x461f1c5768cdb7e567a84e22b19db0eaba069bad', 1541), ('0x1820ffad63fd64d7077da4355e9641dfff4dad0d', 1465), ('0x6f2548b1bee178a49c8ea09be6845f6aeaf3e8da', 1267)]\n",
      "T = 0\n",
      "[('0x112ca67c8e9a6ac65e1a2753613d37b89ab7436b', 1678), ('0x461f1c5768cdb7e567a84e22b19db0eaba069bad', 1539), ('0x1820ffad63fd64d7077da4355e9641dfff4dad0d', 477), ('0xec3d2c52b157781b79ca26c9ddcaf792b03fb29b', 314), ('0x14e421986c5ff2951979987cdd82fa3c0637d569', 281)]\n",
      "T = 1\n",
      "[('0x112ca67c8e9a6ac65e1a2753613d37b89ab7436b', 2140), ('0xec3d2c52b157781b79ca26c9ddcaf792b03fb29b', 330), ('0x1820ffad63fd64d7077da4355e9641dfff4dad0d', 249), ('0x14e421986c5ff2951979987cdd82fa3c0637d569', 174), ('0x8e215d06ea7ec1fdb4fc5fd21768f4b34ee92ef4', 173)]\n",
      "T = 2\n",
      "[('0x112ca67c8e9a6ac65e1a2753613d37b89ab7436b', 3539), ('0x8fdc07cc76529566bbe2991401541df8b011db61', 521), ('0x1820ffad63fd64d7077da4355e9641dfff4dad0d', 400), ('0x3fcb3018cbd53e0a6c93048eb5c7199487d7b7fe', 396), ('0x9851dad5c623558e0c9d2292f54f49ff019d9dd1', 204)]\n",
      "T = 3\n",
      "[('0x112ca67c8e9a6ac65e1a2753613d37b89ab7436b', 2579), ('0x3fcb3018cbd53e0a6c93048eb5c7199487d7b7fe', 347), ('0x1820ffad63fd64d7077da4355e9641dfff4dad0d', 338), ('0x21795b67bbf2feb06d0cd0278b745a39c4bc75dd', 153), ('0x14e421986c5ff2951979987cdd82fa3c0637d569', 125)]\n",
      "T = 4\n",
      "[('0x112ca67c8e9a6ac65e1a2753613d37b89ab7436b', 920), ('0x64beb14b260e034b8ac42fc2dfb129e55a93a873', 367), ('0x6f2548b1bee178a49c8ea09be6845f6aeaf3e8da', 217), ('0x8d12a197cb00d4747a1fe03395095ce2a5cc6819', 183), ('0x1f28c6fb3ea8ba23038c70a51d8986c5d1276a8d', 112)]\n",
      "T = 5\n",
      "[('0x112ca67c8e9a6ac65e1a2753613d37b89ab7436b', 799), ('0x64beb14b260e034b8ac42fc2dfb129e55a93a873', 113), ('0x1f28c6fb3ea8ba23038c70a51d8986c5d1276a8d', 109), ('0x6f2548b1bee178a49c8ea09be6845f6aeaf3e8da', 99), ('0x55034ab309c50cfcb806e6de3447933d5d5bfc99', 93)]\n",
      "T = 6\n",
      "[('0x112ca67c8e9a6ac65e1a2753613d37b89ab7436b', 1004), ('0x1f28c6fb3ea8ba23038c70a51d8986c5d1276a8d', 122), ('0x5393d9f7797bc3e8debb8f7293f3188105e80986', 90), ('0x120eaf70015775c3f6ed954e67e97a36485cfb0f', 80), ('0x53e50f83fef5acfa29c3d51c0adc0a5e5b375025', 78)]\n",
      "T = 7\n",
      "[('0x0ce13e66bef17801c9f19fb763be2dd2f391d7c2', 1658), ('0x112ca67c8e9a6ac65e1a2753613d37b89ab7436b', 872), ('0x8ff2fd6f94cdce7c56bb11328eb9928c9483aa66', 490), ('0x693c188e40f760ecf00d2946ef45260b84fbc43e', 432), ('0x6f2548b1bee178a49c8ea09be6845f6aeaf3e8da', 371)]\n",
      "T = 8\n",
      "[('0x112ca67c8e9a6ac65e1a2753613d37b89ab7436b', 297), ('0x0ce13e66bef17801c9f19fb763be2dd2f391d7c2', 174), ('0x6f2548b1bee178a49c8ea09be6845f6aeaf3e8da', 49), ('0x1f28c6fb3ea8ba23038c70a51d8986c5d1276a8d', 47), ('0x8ff2fd6f94cdce7c56bb11328eb9928c9483aa66', 47)]\n",
      "T = 9\n",
      "[('0x112ca67c8e9a6ac65e1a2753613d37b89ab7436b', 375), ('0x8ff2fd6f94cdce7c56bb11328eb9928c9483aa66', 193), ('0x6f2548b1bee178a49c8ea09be6845f6aeaf3e8da', 113), ('0x1f28c6fb3ea8ba23038c70a51d8986c5d1276a8d', 98), ('0x0ce13e66bef17801c9f19fb763be2dd2f391d7c2', 53)]\n",
      "T = 10\n",
      "[('0x8ff2fd6f94cdce7c56bb11328eb9928c9483aa66', 422), ('0x112ca67c8e9a6ac65e1a2753613d37b89ab7436b', 97), ('0x6f2548b1bee178a49c8ea09be6845f6aeaf3e8da', 62), ('0x74de5d4fcbf63e00296fd95d33236b9794016631', 58), ('0x0000000000007f150bd6f54c40a34d7c3d5e9f56', 30)]\n"
     ]
    }
   ],
   "source": [
    "degrees = graph.degree\n",
    "print(\"All time:\")\n",
    "print(sorted(degrees, key=lambda t: t[1], reverse=True)[:5])\n",
    "c = 0\n",
    "for g in graphs:\n",
    "    print(\"T =\", c)\n",
    "    c += 1\n",
    "    print(sorted(g.degree, key=lambda t: t[1], reverse=True)[:5])"
   ]
  },
  {
   "cell_type": "markdown",
   "metadata": {},
   "source": [
    "## degree distribution"
   ]
  },
  {
   "cell_type": "markdown",
   "metadata": {},
   "source": [
    "- is there a difference between erc20 and erc721 degree distributions?\n",
    "- user profiling => degree distribution of users across graphs \n",
    "- user activity profiling => temporal degree distribution \n",
    "    - for diffent time granularities"
   ]
  },
  {
   "cell_type": "code",
   "execution_count": 145,
   "metadata": {},
   "outputs": [
    {
     "name": "stdout",
     "output_type": "stream",
     "text": [
      "Creating histogram...\n",
      "Creating histogram...\n",
      "Creating histogram...\n",
      "Creating histogram...\n",
      "Creating histogram...\n",
      "Creating histogram...\n",
      "Creating histogram...\n",
      "Creating histogram...\n",
      "Creating histogram...\n",
      "Creating histogram...\n",
      "Creating histogram...\n",
      "Creating histogram...\n"
     ]
    },
    {
     "data": {
      "text/plain": [
       "<matplotlib.legend.Legend at 0x7f312371f4c0>"
      ]
     },
     "execution_count": 145,
     "metadata": {},
     "output_type": "execute_result"
    },
    {
     "data": {
      "image/png": "[encoded data removed]",
      "text/plain": [
       "<Figure size 432x288 with 1 Axes>"
      ]
     },
     "metadata": {
      "needs_background": "light"
     },
     "output_type": "display_data"
    }
   ],
   "source": [
    "def plot_degree_histogram(g, normalized=True):\n",
    "    print(\"Creating histogram...\")\n",
    "    aux_y = nx.degree_histogram(g)\n",
    "    \n",
    "    aux_x = np.arange(0,len(aux_y)).tolist()\n",
    "    \n",
    "    n_nodes = g.number_of_nodes()\n",
    "    \n",
    "    if normalized:\n",
    "        for i in range(len(aux_y)):\n",
    "            aux_y[i] = aux_y[i]/n_nodes\n",
    "    \n",
    "    return aux_x, aux_y\n",
    "\n",
    "x, y = plot_degree_histogram(graph)\n",
    "plt.title('\\nDegree Distribution All Time (log-log scale)')\n",
    "plt.xlabel('Degree\\n(log scale)')\n",
    "plt.ylabel('Number of Nodes\\n(log scale)')\n",
    "plt.xscale(\"log\")\n",
    "plt.yscale(\"log\")\n",
    "plt.plot(x, y, 'o', label = \"all time\")\n",
    "\n",
    "c = 0\n",
    "for g in graphs:\n",
    "    x, y = plot_degree_histogram(g)\n",
    "    plt.plot(x, y, 'o', label=c)\n",
    "    c += 1\n",
    "plt.legend()"
   ]
  },
  {
   "cell_type": "markdown",
   "metadata": {},
   "source": [
    "- degree distribution could show us whales in marketplaces?\n",
    "- nft galleries? :)\n",
    "    \n",
    "**Degree distribution at a **\n",
    "\n",
    "- degree distribution change "
   ]
  },
  {
   "cell_type": "markdown",
   "metadata": {},
   "source": [
    "# pdf"
   ]
  },
  {
   "cell_type": "markdown",
   "metadata": {},
   "source": [
    "powerlaw package\n",
    "fit a power law curve\n",
    "how th exponent is changing over time\n",
    "\n",
    "* cdf of the data"
   ]
  },
  {
   "cell_type": "code",
   "execution_count": 146,
   "metadata": {},
   "outputs": [
    {
     "name": "stdout",
     "output_type": "stream",
     "text": [
      "2.038456291555743\n",
      "0.05898035401374046\n"
     ]
    },
    {
     "name": "stderr",
     "output_type": "stream",
     "text": [
      "Calculating best minimal value for power law fit\n",
      "/home/aakyildiz/anaconda3/envs/erc/lib/python3.9/site-packages/powerlaw.py:699: RuntimeWarning: invalid value encountered in true_divide\n",
      "  (CDF_diff**2) /\n"
     ]
    },
    {
     "data": {
      "text/plain": [
       "(7.719356762063792, 0.031187474900341083)"
      ]
     },
     "execution_count": 146,
     "metadata": {},
     "output_type": "execute_result"
    }
   ],
   "source": [
    "degrees = graph.degree\n",
    "data = [i[1] for i in degrees]\n",
    "fit = powerlaw.Fit(data)\n",
    "print(fit.power_law.alpha)\n",
    "print(fit.power_law.sigma)\n",
    "fit.distribution_compare('power_law', 'lognormal_positive')"
   ]
  },
  {
   "cell_type": "code",
   "execution_count": 147,
   "metadata": {},
   "outputs": [
    {
     "name": "stderr",
     "output_type": "stream",
     "text": [
      "Calculating best minimal value for power law fit\n",
      "Calculating best minimal value for power law fit\n",
      "Calculating best minimal value for power law fit\n",
      "Calculating best minimal value for power law fit\n",
      "Calculating best minimal value for power law fit\n",
      "Calculating best minimal value for power law fit\n",
      "Calculating best minimal value for power law fit\n",
      "Calculating best minimal value for power law fit\n",
      "Calculating best minimal value for power law fit\n",
      "Calculating best minimal value for power law fit\n",
      "Calculating best minimal value for power law fit\n"
     ]
    },
    {
     "name": "stdout",
     "output_type": "stream",
     "text": [
      "2.0665525036224226\n",
      "0.0904638026494996\n",
      "(9.30593094180605, 0.0074359634843241765)\n",
      "1.9436497698505675\n",
      "0.10357901867708914\n",
      "(1.1784914784152596, 0.5319336040319946)\n",
      "1.9120908605025688\n",
      "0.06617002572370174\n",
      "(6.558888821954998, 0.09014669390906342)\n",
      "1.9485726275904112\n",
      "0.07253916182939375\n",
      "(4.7097143169766, 0.19269704953106337)\n",
      "2.2103674312190025\n",
      "0.09598838106298266\n",
      "(19.514590218491755, 4.957705367870169e-06)\n",
      "2.048519979899784\n",
      "0.08449214780426763\n",
      "(15.067308915722988, 0.0008808644604174902)\n",
      "2.166622966946766\n",
      "0.16335989061852235\n",
      "(1.197960511586214, 0.41891618522992524)\n",
      "2.066727937206993\n",
      "0.1077557940114575\n",
      "(3.1812768357151304, 0.106498115197646)\n",
      "2.265325812318036\n",
      "0.11409058629280756\n",
      "(15.607218761686257, 0.0002869618866145542)\n",
      "2.080749901879952\n",
      "0.11455926048098308\n",
      "(6.510459292507969, 0.012599320370200017)\n",
      "2.249113422354938\n",
      "0.15037558495108394\n",
      "(5.152025391696606, 0.058741899958162314)\n"
     ]
    }
   ],
   "source": [
    "for g in graphs:\n",
    "    degrees = g.degree\n",
    "    data = [i[1] for i in degrees]\n",
    "    fit = powerlaw.Fit(data)\n",
    "    print(fit.power_law.alpha)\n",
    "    print(fit.power_law.sigma)\n",
    "    print(fit.distribution_compare('power_law', 'lognormal_positive'))"
   ]
  },
  {
   "cell_type": "code",
   "execution_count": 36,
   "metadata": {},
   "outputs": [
    {
     "data": {
      "image/png": "[encoded data removed]",
      "text/plain": [
       "<Figure size 432x288 with 1 Axes>"
      ]
     },
     "metadata": {
      "needs_background": "light"
     },
     "output_type": "display_data"
    }
   ],
   "source": [
    "figPDF = powerlaw.plot_pdf(data, color='b')\n",
    "powerlaw.plot_pdf(data, linear_bins=True, color='r', ax=figPDF)\n",
    "\n",
    "figPDF.set_ylabel(\"p(X)\")\n",
    "figPDF.set_xlabel(r\"Degree Frequency\")\n",
    "figname = 'Degree Distribution'"
   ]
  },
  {
   "cell_type": "code",
   "execution_count": 94,
   "metadata": {},
   "outputs": [],
   "source": [
    "def plot_basics(data, data_inst, fig, units):\n",
    "    from powerlaw import plot_pdf, Fit, pdf\n",
    "    annotate_coord = (-.4, .95)\n",
    "    ax1 = fig.add_subplot(n_graphs,n_data,data_inst)\n",
    "    x, y = pdf(data, linear_bins=True)\n",
    "    ind = y>0\n",
    "    y = y[ind]\n",
    "    x = x[:-1]\n",
    "    x = x[ind]\n",
    "    ax1.scatter(x, y, color='r', s=.5)\n",
    "    #plot_pdf(data[data>0], ax=ax1, color='b', linewidth=2)\n",
    "    plot_pdf(data, ax=ax1, color='b', linewidth=2)\n",
    "    from pylab import setp\n",
    "    setp( ax1.get_xticklabels(), visible=False)\n",
    "\n",
    "    if data_inst==1:\n",
    "        ax1.annotate(\"A\", annotate_coord, xycoords=\"axes fraction\", fontproperties=panel_label_font)\n",
    "\n",
    "    \n",
    "    from mpl_toolkits.axes_grid.inset_locator import inset_axes\n",
    "    ax1in = inset_axes(ax1, width = \"30%\", height = \"30%\", loc=3)\n",
    "    ax1in.set_xticks([])\n",
    "    ax1in.set_yticks([])\n",
    "\n",
    "    \n",
    "    ax2 = fig.add_subplot(n_graphs,n_data,n_data+data_inst, sharex=ax1)\n",
    "    plot_pdf(data, ax=ax2, color='b', linewidth=2)\n",
    "    fit = Fit(data, xmin=1, discrete=True)\n",
    "    fit.power_law.plot_pdf(ax=ax2, linestyle=':', color='g')\n",
    "    p = fit.power_law.pdf()\n",
    "\n",
    "    ax2.set_xlim(ax1.get_xlim())\n",
    "    \n",
    "    fit = Fit(data, discrete=True)\n",
    "    fit.power_law.plot_pdf(ax=ax2, linestyle='--', color='g')\n",
    "    from pylab import setp\n",
    "    setp( ax2.get_xticklabels(), visible=False)\n",
    "\n",
    "    if data_inst==1:\n",
    "       ax2.annotate(\"B\", annotate_coord, xycoords=\"axes fraction\", fontproperties=panel_label_font)        \n",
    "       ax2.set_ylabel(u\"p(X)\")# (10^n)\")\n",
    "        \n",
    "    ax3 = fig.add_subplot(n_graphs,n_data,n_data*2+data_inst)#, sharex=ax1)#, sharey=ax2)\n",
    "    fit.power_law.plot_pdf(ax=ax3, linestyle='--', color='g', label=\"power-law\")\n",
    "    fit.exponential.plot_pdf(ax=ax3, linestyle='--', color='r', label=\"exponential\")\n",
    "    fit.lognormal_positive.plot_pdf(ax=ax3, linestyle='--', color='b', label=\"lognormal-positive\")\n",
    "    #fit.lognormal.plot_pdf(ax=ax3, linestyle='--', color='b')\n",
    "    fit.plot_pdf(ax=ax3, color='b', linewidth=2)\n",
    "    \n",
    "    print(ax2.get_ylim())\n",
    "    print(ax1.get_xlim())\n",
    "    ax3.set_ylim(ax2.get_ylim())\n",
    "    ax3.set_xlim(ax1.get_xlim())\n",
    "    \n",
    "    if data_inst==1:\n",
    "        ax3.annotate(\"C\", annotate_coord, xycoords=\"axes fraction\", fontproperties=panel_label_font)\n",
    "\n",
    "    ax3.set_xlabel(units)\n",
    "\n",
    "def ppp(data, fig, units):\n",
    "    from powerlaw import plot_pdf, Fit, pdf\n",
    "    ax3 = fig.add_subplot(n_graphs,n_data,n_data*2+data_inst)\n",
    "    fit = Fit(data, discrete=True)\n",
    "    fit.power_law.plot_pdf(ax=ax3,linestyle='--', color='g', label=\"power-law\")\n",
    "    fit.exponential.plot_pdf(ax=ax3,linestyle='--', color='r', label=\"exponential\")\n",
    "    fit.lognormal_positive.plot_pdf(ax=ax3,linestyle='--', color='b', label=\"lognormal-positive\")\n",
    "    fit.plot_pdf(color='b', linewidth=2)\n",
    "    ax3.set_ylim((2.832399908207049e-10, 10.0e-2))\n",
    "    ax3.set_xlim((10, 32585827.619235393))\n",
    "    ax3.set_ylabel(\"p(x)\")\n",
    "    ax3.set_xlabel(units)\n",
    "    #ax3.set_xlim(ax1.get_xlim())\n",
    "    "
   ]
  },
  {
   "cell_type": "code",
   "execution_count": 104,
   "metadata": {},
   "outputs": [
    {
     "name": "stderr",
     "output_type": "stream",
     "text": [
      "Calculating best minimal value for power law fit\n",
      "/home/aakyildiz/anaconda3/envs/erc/lib/python3.9/site-packages/powerlaw.py:699: RuntimeWarning: invalid value encountered in true_divide\n",
      "  (CDF_diff**2) /\n",
      "/home/aakyildiz/anaconda3/envs/erc/lib/python3.9/site-packages/powerlaw.py:699: RuntimeWarning: divide by zero encountered in true_divide\n",
      "  (CDF_diff**2) /\n",
      "/home/aakyildiz/anaconda3/envs/erc/lib/python3.9/site-packages/powerlaw.py:699: RuntimeWarning: divide by zero encountered in true_divide\n",
      "  (CDF_diff**2) /\n",
      "/home/aakyildiz/anaconda3/envs/erc/lib/python3.9/site-packages/powerlaw.py:699: RuntimeWarning: invalid value encountered in true_divide\n",
      "  (CDF_diff**2) /\n",
      "/home/aakyildiz/anaconda3/envs/erc/lib/python3.9/site-packages/powerlaw.py:699: RuntimeWarning: invalid value encountered in true_divide\n",
      "  (CDF_diff**2) /\n"
     ]
    },
    {
     "data": {
      "image/png": "[encoded data removed]",
      "text/plain": [
       "<Figure size 360x1080 with 1 Axes>"
      ]
     },
     "metadata": {
      "needs_background": "light"
     },
     "output_type": "display_data"
    }
   ],
   "source": [
    "import collections\n",
    "import matplotlib.pyplot as plt\n",
    "import numpy as np\n",
    "import powerlaw\n",
    "\n",
    "n_data = 1 #len(graphs)\n",
    "n_graphs = 4\n",
    "f = plt.figure(figsize=(5,15))\n",
    "\n",
    "data_inst = 1\n",
    "#for g in graphs:\n",
    "if True:\n",
    "    degrees = graph.degree\n",
    "    data = [i[1] for i in degrees]\n",
    "    units = 'Degree Frequency'\n",
    "    #plot_basics(data, data_inst, f, units)\n",
    "    ppp(data, f, units)\n",
    "#    data_inst += 1\n",
    "\n",
    "f.subplots_adjust(left=None, bottom=None, right=None, top=None, wspace=.3, hspace=.2)\n",
    "f.savefig(graph_name+'.png', bbox_inches='tight')\n",
    "#f.savefig(figname+'.tiff', bbox_inches='tight', dpi=300)"
   ]
  },
  {
   "cell_type": "code",
   "execution_count": null,
   "metadata": {},
   "outputs": [],
   "source": []
  },
  {
   "cell_type": "code",
   "execution_count": null,
   "metadata": {},
   "outputs": [],
   "source": []
  }
 ],
 "metadata": {
  "kernelspec": {
   "display_name": "erc",
   "language": "python",
   "name": "erc"
  },
  "language_info": {
   "codemirror_mode": {
    "name": "ipython",
    "version": 3
   },
   "file_extension": ".py",
   "mimetype": "text/x-python",
   "name": "python",
   "nbconvert_exporter": "python",
   "pygments_lexer": "ipython3",
   "version": "3.9.5"
  }
 },
 "nbformat": 4,
 "nbformat_minor": 2
}
